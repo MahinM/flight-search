{
 "cells": [
  {
   "cell_type": "markdown",
   "metadata": {},
   "source": [
    "### Load data into Redis\n",
    "\n",
    "*Redis structure*\n",
    "\n",
    "| Name | Description |\n",
    "|--------------------|\n",
    "|flight:`<flight_id>`|hash set with price, availability, carrier|\n",
    "|departure:|zset flights sorted by departure date|\n",
    "|arrival:|zset flights sorted by arrival date|\n",
    "|flights:`<origin>`:`<dest>`|set of flights for given route|\n",
    "|routes:`<origin>`|set of destinations reachable from origin|\n",
    "|distance:`<origin>`:`<dest>`|key value for route distance|\n",
    "|carrier:`<carrier>`|set of flights by carrier|\n"
   ]
  },
  {
   "cell_type": "code",
   "execution_count": 2,
   "metadata": {
    "collapsed": false
   },
   "outputs": [
    {
     "ename": "ModuleNotFoundError",
     "evalue": "No module named 'redis'",
     "output_type": "error",
     "traceback": [
      "\u001b[0;31m---------------------------------------------------------------------------\u001b[0m",
      "\u001b[0;31mModuleNotFoundError\u001b[0m                       Traceback (most recent call last)",
      "\u001b[0;32m<ipython-input-2-4df26aff216e>\u001b[0m in \u001b[0;36m<module>\u001b[0;34m()\u001b[0m\n\u001b[0;32m----> 1\u001b[0;31m \u001b[0;32mimport\u001b[0m \u001b[0mredis\u001b[0m\u001b[0;34m\u001b[0m\u001b[0m\n\u001b[0m\u001b[1;32m      2\u001b[0m \u001b[0;32mimport\u001b[0m \u001b[0mpandas\u001b[0m \u001b[0;32mas\u001b[0m \u001b[0mpd\u001b[0m\u001b[0;34m\u001b[0m\u001b[0m\n\u001b[1;32m      3\u001b[0m \u001b[0;32mimport\u001b[0m \u001b[0mnumpy\u001b[0m \u001b[0;32mas\u001b[0m \u001b[0mnp\u001b[0m\u001b[0;34m\u001b[0m\u001b[0m\n\u001b[1;32m      4\u001b[0m \u001b[0;32mimport\u001b[0m \u001b[0mdatetime\u001b[0m\u001b[0;34m\u001b[0m\u001b[0m\n\u001b[1;32m      5\u001b[0m \u001b[0;34m\u001b[0m\u001b[0m\n",
      "\u001b[0;31mModuleNotFoundError\u001b[0m: No module named 'redis'"
     ]
    }
   ],
   "source": [
    "import redis\n",
    "import pandas as pd\n",
    "import numpy as np\n",
    "import datetime"
   ]
  },
  {
   "cell_type": "code",
   "execution_count": null,
   "metadata": {
    "collapsed": true
   },
   "outputs": [],
   "source": [
    "seconds_in_day = 24 * 60 * 60\n",
    "seconds_in_hour = 60 * 60"
   ]
  },
  {
   "cell_type": "code",
   "execution_count": null,
   "metadata": {
    "collapsed": true
   },
   "outputs": [],
   "source": [
    "conn = redis.Redis(host='ec2-52-3-221-45.compute-1.amazonaws.com', port=6379)\n",
    "\n",
    "flight_data = pd.read_csv('full_data.csv',\n",
    "                          dtype={'flightID': np.int, \n",
    "                                 'Departure_epoch': np.int, \n",
    "                                 'Arrival_epoch': np.int,\n",
    "                                 'RouteID' : np.int})\n",
    "\n",
    "for _, row in flight_data.iterrows():\n",
    "    flight = 'flight:' + str(row['flightID'])\n",
    "    conn.hmset(flight, {\n",
    "        'price' : row['Price'],\n",
    "        'availability' : 100,\n",
    "        'carrier' : row['Carrier']})\n",
    "    conn.zadd('departure:', flight, int(row['Departure_epoch']))\n",
    "    conn.zadd('arrival:', flight, int(row['Arrival_epoch']))\n",
    "    conn.sadd('flights:' + row['Origin'] + ':' + row['Dest'], flight)\n",
    "    conn.sadd('routes:' + row['Origin'], row['Dest'])\n",
    "    conn.set('distance:' + row['Origin'] + ':' + row['Dest'], int(row['Distance']))\n",
    "    conn.sadd('carrier:' + row['Carrier'], flight)\n"
   ]
  }
 ],
 "metadata": {
  "kernelspec": {
   "display_name": "Python 3",
   "language": "python",
   "name": "python3"
  }
 },
 "nbformat": 4,
 "nbformat_minor": 2
}
